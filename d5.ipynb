{
 "cells": [
  {
   "cell_type": "code",
   "execution_count": 5,
   "metadata": {},
   "outputs": [],
   "source": [
    "from dove.utils.vcf import Vcf\n",
    "# sudo pip3 install -U seq-dove"
   ]
  },
  {
   "cell_type": "code",
   "execution_count": 6,
   "metadata": {},
   "outputs": [],
   "source": [
    "def vcf_to_df(vcf_file):\n",
    "    with Vcf(vcf_file) as f:\n",
    "        f.vdf['CSQ'] = f.get_variant_info(concat=True, drop=True)['CSQ']\n",
    "        f.vdf = f.get_sample_format(concat=True, drop=True)\n",
    "        vep_header = [i for i in f.meta_info['INFO'] if 'CSQ' in i][0].split('Format: ')[\n",
    "            1].strip('\">').split('|')\n",
    "        f.vdf.CSQ = f.vdf.CSQ.str.split(',')\n",
    "        df = f.vdf.explode('CSQ')\n",
    "\n",
    "    df[vep_header] = df.CSQ.str.split('|', expand=True)\n",
    "    df.drop(['INFO', 'CSQ'], axis=1, inplace=True)\n",
    "    df = df[df.PICK == \"1\"]\n",
    "    df['GT'] = df['GT'].replace({'0/1': 'Het', '1/1': 'Hom'})\n",
    "    df['PUBMED'] = df['PUBMED'].str.replace('&', ' ')\n",
    "    #if 'PHENOTYPES' in list(df):\n",
    "    #    df['PHENOTYPES'] = df['PHENOTYPES'].str.replace('__', ';').str.replace('&', ' & ').str.replace('_', ' ')\n",
    "    return df"
   ]
  },
  {
   "cell_type": "code",
   "execution_count": null,
   "metadata": {},
   "outputs": [],
   "source": []
  },
  {
   "cell_type": "code",
   "execution_count": null,
   "metadata": {},
   "outputs": [],
   "source": [
    "with Vcf(vcf_file) as vcf:\n",
    "    vcf = vcf"
   ]
  },
  {
   "cell_type": "code",
   "execution_count": null,
   "metadata": {},
   "outputs": [],
   "source": [
    "vcf.meta_info"
   ]
  },
  {
   "cell_type": "code",
   "execution_count": null,
   "metadata": {},
   "outputs": [],
   "source": [
    "vcf.vdf"
   ]
  },
  {
   "cell_type": "code",
   "execution_count": null,
   "metadata": {},
   "outputs": [],
   "source": [
    "vcf.get_sample_format()"
   ]
  },
  {
   "cell_type": "code",
   "execution_count": null,
   "metadata": {},
   "outputs": [],
   "source": [
    "vcf.get_variant_info()"
   ]
  },
  {
   "cell_type": "code",
   "execution_count": 7,
   "metadata": {},
   "outputs": [],
   "source": [
    "vcf_file = \"/media/bar/Elements/YOktay-WEX/run/truseq-exom_General_Exome_Pipeline_2020-12-30_23-16-22/vcf/BB_S2_R1_001.fastq_bwa_vep.vcf.gz\"\n",
    "df = vcf_to_df(vcf_file)"
   ]
  },
  {
   "cell_type": "code",
   "execution_count": 4,
   "metadata": {},
   "outputs": [],
   "source": [
    "df.to_csv('test.csv', index=False)"
   ]
  },
  {
   "cell_type": "code",
   "execution_count": null,
   "metadata": {},
   "outputs": [],
   "source": []
  }
 ],
 "metadata": {
  "kernelspec": {
   "display_name": "Python 3",
   "language": "python",
   "name": "python3"
  },
  "language_info": {
   "codemirror_mode": {
    "name": "ipython",
    "version": 3
   },
   "file_extension": ".py",
   "mimetype": "text/x-python",
   "name": "python",
   "nbconvert_exporter": "python",
   "pygments_lexer": "ipython3",
   "version": "3.6.9"
  }
 },
 "nbformat": 4,
 "nbformat_minor": 4
}
