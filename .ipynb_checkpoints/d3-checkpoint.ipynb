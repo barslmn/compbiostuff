{
 "cells": [
  {
   "cell_type": "markdown",
   "metadata": {},
   "source": [
    "## Toollar\n",
    "\n",
    "### BWA (Burrows Wheeler Aligner)\n",
    "https://github.com/lh3/bwa\n",
    "\n",
    "### Samtools\n",
    "https://github.com/samtools/samtools\n",
    "\n",
    "### Deepvariant\n",
    "https://github.com/google/deepvariant\n",
    "\n",
    "### Ensembl VEP\n",
    "https://github.com/Ensembl/ensembl-vep\n",
    "\n",
    "## Veritabanları\n",
    "### UCSC (University of California Santa Cruz)\n",
    "https://genome.ucsc.edu/\n",
    "\n",
    "### NCBI (National Center for Biotechonology Information)\n",
    "https://www.ncbi.nlm.nih.gov/\n",
    "\n",
    "### Ensembl (Enstitute of EMBL?)\n",
    "http://www.ensembl.org/index.html"
   ]
  },
  {
   "cell_type": "code",
   "execution_count": 6,
   "metadata": {},
   "outputs": [
    {
     "name": "stdout",
     "output_type": "stream",
     "text": [
      "zsh:1: unknown file attribute: i\r\n"
     ]
    }
   ],
   "source": [
    "![pigeon](pigeon.pdf)"
   ]
  },
  {
   "cell_type": "code",
   "execution_count": null,
   "metadata": {},
   "outputs": [],
   "source": []
  }
 ],
 "metadata": {
  "kernelspec": {
   "display_name": "Python 3",
   "language": "python",
   "name": "python3"
  },
  "language_info": {
   "codemirror_mode": {
    "name": "ipython",
    "version": 3
   },
   "file_extension": ".py",
   "mimetype": "text/x-python",
   "name": "python",
   "nbconvert_exporter": "python",
   "pygments_lexer": "ipython3",
   "version": "3.9.1"
  }
 },
 "nbformat": 4,
 "nbformat_minor": 4
}
